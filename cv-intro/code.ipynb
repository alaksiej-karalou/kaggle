{
 "cells": [
  {
   "cell_type": "code",
   "execution_count": 1,
   "metadata": {
    "pycharm": {
     "is_executing": true
    }
   },
   "outputs": [],
   "source": [
    "import keras\n",
    "import tensorflow as tf\n",
    "from tensorflow.keras.preprocessing import image_dataset_from_directory"
   ]
  },
  {
   "cell_type": "code",
   "execution_count": 2,
   "metadata": {
    "pycharm": {
     "is_executing": true,
     "name": "#%%\n"
    }
   },
   "outputs": [
    {
     "name": "stdout",
     "output_type": "stream",
     "text": [
      "Found 5117 files belonging to 2 classes.\n",
      "Found 5051 files belonging to 2 classes.\n"
     ]
    }
   ],
   "source": [
    "ds_train = image_dataset_from_directory('input/train/', label_mode='binary', shuffle=True, image_size=[128, 128],batch_size=64)\n",
    "ds_valid = image_dataset_from_directory('input/valid/', label_mode='binary', shuffle=True, image_size=[128, 128],batch_size=64)"
   ]
  },
  {
   "cell_type": "code",
   "execution_count": 3,
   "metadata": {
    "pycharm": {
     "is_executing": true,
     "name": "#%%\n"
    }
   },
   "outputs": [],
   "source": [
    "def convert_to_float(image, label):\n",
    "    image = tf.image.convert_image_dtype(image, dtype=tf.float32)\n",
    "    return image, label\n",
    "\n",
    "\n",
    "ds_train = (ds_train\n",
    "            .map(convert_to_float)\n",
    "            .cache()\n",
    "            .prefetch(buffer_size=tf.data.experimental.AUTOTUNE))\n",
    "ds_valid = (ds_valid\n",
    "            .map(convert_to_float)\n",
    "            .cache()\n",
    "            .prefetch(buffer_size=tf.data.experimental.AUTOTUNE)\n",
    "            )"
   ]
  },
  {
   "cell_type": "code",
   "execution_count": 4,
   "metadata": {
    "pycharm": {
     "name": "#%%\n"
    }
   },
   "outputs": [],
   "source": [
    "from keras.applications.vgg16 import VGG16\n",
    "\n",
    "from tensorflow import keras\n",
    "from keras import layers\n",
    "\n",
    "conv_base = VGG16(weights='imagenet',\n",
    "                  include_top=False,\n",
    "                  input_shape=(128, 128, 3))\n",
    "conv_base.trainable = False\n",
    "\n",
    "model = keras.Sequential([\n",
    "    conv_base,\n",
    "    layers.Flatten(),\n",
    "    layers.Dense(6, activation='relu'),\n",
    "    layers.Dense(1, activation='sigmoid'),\n",
    "])"
   ]
  },
  {
   "cell_type": "code",
   "execution_count": 5,
   "metadata": {
    "pycharm": {
     "name": "#%%\n"
    }
   },
   "outputs": [],
   "source": [
    "model.compile(\n",
    "    optimizer='adam',\n",
    "    loss='binary_crossentropy',\n",
    "    metrics=['binary_accuracy'],\n",
    ")"
   ]
  },
  {
   "cell_type": "code",
   "execution_count": null,
   "metadata": {
    "pycharm": {
     "name": "#%%\n"
    }
   },
   "outputs": [
    {
     "name": "stdout",
     "output_type": "stream",
     "text": [
      "Epoch 1/30\n",
      "80/80 [==============================] - 243s 3s/step - loss: 0.9147 - binary_accuracy: 0.7041\n",
      "Epoch 2/30\n",
      "80/80 [==============================] - 223s 3s/step - loss: 0.5292 - binary_accuracy: 0.8397\n",
      "Epoch 3/30\n",
      "80/80 [==============================] - 223s 3s/step - loss: 0.4746 - binary_accuracy: 0.8736\n",
      "Epoch 4/30\n",
      "80/80 [==============================] - 242s 3s/step - loss: 0.4362 - binary_accuracy: 0.8947\n",
      "Epoch 5/30\n",
      "80/80 [==============================] - 239s 3s/step - loss: 0.4145 - binary_accuracy: 0.9017\n",
      "Epoch 6/30\n",
      "80/80 [==============================] - 238s 3s/step - loss: 0.3996 - binary_accuracy: 0.9027\n",
      "Epoch 7/30\n",
      "80/80 [==============================] - 247s 3s/step - loss: 0.3771 - binary_accuracy: 0.9107\n",
      "Epoch 8/30\n",
      "80/80 [==============================] - 253s 3s/step - loss: 0.3582 - binary_accuracy: 0.9199\n",
      "Epoch 9/30\n",
      "80/80 [==============================] - 232s 3s/step - loss: 0.3363 - binary_accuracy: 0.9269\n",
      "Epoch 10/30\n",
      "80/80 [==============================] - 241s 3s/step - loss: 0.3247 - binary_accuracy: 0.9289\n",
      "Epoch 11/30\n",
      "80/80 [==============================] - 243s 3s/step - loss: 0.3201 - binary_accuracy: 0.9267\n",
      "Epoch 12/30\n",
      "80/80 [==============================] - 248s 3s/step - loss: 0.3022 - binary_accuracy: 0.9343\n",
      "Epoch 13/30\n",
      "80/80 [==============================] - 256s 3s/step - loss: 0.2671 - binary_accuracy: 0.9494\n",
      "Epoch 14/30\n",
      "80/80 [==============================] - 262s 3s/step - loss: 0.2444 - binary_accuracy: 0.9588\n",
      "Epoch 15/30\n",
      "18/80 [=====>........................] - ETA: 3:32 - loss: 0.2358 - binary_accuracy: 0.9627"
     ]
    }
   ],
   "source": [
    "history=model.fit(\n",
    "    ds_train,\n",
    "    epochs=30,\n",
    "    verbose=1,\n",
    ")"
   ]
  },
  {
   "cell_type": "code",
   "execution_count": null,
   "metadata": {},
   "outputs": [],
   "source": [
    "import pandas as pd\n",
    "\n",
    "history_frame = pd.DataFrame(history.history)\n",
    "history_frame.loc[:, ['loss', 'val_loss']].plot()\n",
    "history_frame.loc[:, ['binary_accuracy', 'val_binary_accuracy']].plot()"
   ]
  }
 ],
 "metadata": {
  "kernelspec": {
   "display_name": "Python 3 (ipykernel)",
   "language": "python",
   "name": "python3"
  },
  "language_info": {
   "codemirror_mode": {
    "name": "ipython",
    "version": 3
   },
   "file_extension": ".py",
   "mimetype": "text/x-python",
   "name": "python",
   "nbconvert_exporter": "python",
   "pygments_lexer": "ipython3",
   "version": "3.10.2"
  }
 },
 "nbformat": 4,
 "nbformat_minor": 1
}
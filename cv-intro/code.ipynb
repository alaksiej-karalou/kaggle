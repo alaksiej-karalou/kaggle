{
 "cells": [
  {
   "cell_type": "code",
   "execution_count": 1,
   "metadata": {
    "pycharm": {
     "is_executing": true
    }
   },
   "outputs": [
    {
     "name": "stdout",
     "output_type": "stream",
     "text": [
      "Found 5117 files belonging to 2 classes.\n",
      "Found 5051 files belonging to 2 classes.\n"
     ]
    }
   ],
   "source": [
    "import os, warnings\n",
    "import matplotlib.pyplot as plt\n",
    "from matplotlib import gridspec\n",
    "\n",
    "import numpy as np\n",
    "import tensorflow as tf\n",
    "from tensorflow.keras.preprocessing import image_dataset_from_directory\n",
    "\n",
    "ds_train = image_dataset_from_directory(\n",
    "    'input/car-or-truck/train',\n",
    "    labels = 'inferred',\n",
    "    label_mode = 'binary',\n",
    "    image_size = [128, 128],\n",
    "    interpolation = 'nearest',\n",
    "    batch_size = 64,\n",
    "    shuffle = True,\n",
    ").cache()\n",
    "\n",
    "ds_valid = image_dataset_from_directory(\n",
    "    'input/car-or-truck/valid',\n",
    "    labels = 'inferred',\n",
    "    label_mode = 'binary',\n",
    "    image_size = [128, 128],\n",
    "    interpolation = 'nearest',\n",
    "    batch_size = 64,\n",
    "    shuffle = False,\n",
    ").cache()\n",
    "\n",
    "def convert_to_float(image, label):\n",
    "    image = tf.image.convert_image_dtype(image, dtype=tf.float32)\n",
    "    return image, label\n",
    "\n",
    "AUTOTUNE = tf.data.experimental.AUTOTUNE\n",
    "ds_train = (\n",
    "    ds_train\n",
    "    .map(convert_to_float)\n",
    "    .cache()\n",
    "    .prefetch(buffer_size=AUTOTUNE)\n",
    ")\n",
    "ds_valid = (\n",
    "    ds_valid\n",
    "    .map(convert_to_float)\n",
    "    .cache()\n",
    "    .prefetch(buffer_size=AUTOTUNE)\n",
    ")\n"
   ]
  },
  {
   "cell_type": "code",
   "execution_count": 4,
   "metadata": {
    "scrolled": true
   },
   "outputs": [],
   "source": [
    "from tensorflow import keras\n",
    "from tensorflow.keras import layers\n",
    "\n",
    "from tensorflow.keras.layers.experimental import preprocessing\n",
    "\n",
    "model = keras.Sequential([\n",
    "    preprocessing.RandomFlip('horizontal'),\n",
    "    preprocessing.RandomContrast(0.5),\n",
    "    \n",
    "    layers.Conv2D(filters=32, kernel_size=5, activation=\"relu\", padding='same',\n",
    "                  input_shape=[128, 128, 3]),\n",
    "    layers.MaxPool2D(),\n",
    "\n",
    "    layers.Conv2D(filters=64, kernel_size=3, activation=\"relu\", padding='same'),\n",
    "    layers.Conv2D(filters=64, kernel_size=3, activation=\"relu\", padding='same'),\n",
    "    layers.MaxPool2D(),\n",
    "\n",
    "    layers.Conv2D(filters=128, kernel_size=3, activation=\"relu\", padding='same'),\n",
    "    layers.MaxPool2D(),\n",
    "\n",
    "    layers.Flatten(),\n",
    "    layers.Dense(units=6, activation=\"relu\"),\n",
    "    layers.Dense(units=1, activation=\"sigmoid\"),\n",
    "])"
   ]
  },
  {
   "cell_type": "code",
   "execution_count": 5,
   "metadata": {},
   "outputs": [
    {
     "data": {
      "text/plain": [
       "tensorflow.python.data.ops.dataset_ops.PrefetchDataset"
      ]
     },
     "metadata": {},
     "output_type": "display_data"
    },
    {
     "name": "stdout",
     "output_type": "stream",
     "text": [
      "Epoch 1/40\n",
      "80/80 [==============================] - 145s 2s/step - loss: 0.6784 - binary_accuracy: 0.5730 - val_loss: 0.6700 - val_binary_accuracy: 0.5785\n",
      "Epoch 2/40\n",
      "80/80 [==============================] - 115s 1s/step - loss: 0.6594 - binary_accuracy: 0.6084 - val_loss: 0.6648 - val_binary_accuracy: 0.5811\n",
      "Epoch 3/40\n",
      "80/80 [==============================] - 126s 2s/step - loss: 0.6535 - binary_accuracy: 0.6152 - val_loss: 0.6697 - val_binary_accuracy: 0.5933\n",
      "Epoch 4/40\n",
      "80/80 [==============================] - 117s 1s/step - loss: 0.6479 - binary_accuracy: 0.6174 - val_loss: 0.6596 - val_binary_accuracy: 0.6025\n",
      "Epoch 5/40\n",
      "80/80 [==============================] - 116s 1s/step - loss: 0.6347 - binary_accuracy: 0.6398 - val_loss: 0.6717 - val_binary_accuracy: 0.5941\n",
      "Epoch 6/40\n",
      "80/80 [==============================] - 115s 1s/step - loss: 0.6213 - binary_accuracy: 0.6488 - val_loss: 0.6517 - val_binary_accuracy: 0.6173\n",
      "Epoch 7/40\n",
      "80/80 [==============================] - 115s 1s/step - loss: 0.6097 - binary_accuracy: 0.6688 - val_loss: 0.6341 - val_binary_accuracy: 0.6520\n",
      "Epoch 8/40\n",
      "80/80 [==============================] - 114s 1s/step - loss: 0.6050 - binary_accuracy: 0.6742 - val_loss: 0.6373 - val_binary_accuracy: 0.6381\n",
      "Epoch 9/40\n",
      "80/80 [==============================] - 114s 1s/step - loss: 0.5973 - binary_accuracy: 0.6850 - val_loss: 0.5930 - val_binary_accuracy: 0.6755\n",
      "Epoch 10/40\n",
      "80/80 [==============================] - 115s 1s/step - loss: 0.5800 - binary_accuracy: 0.6922 - val_loss: 0.5926 - val_binary_accuracy: 0.6852\n",
      "Epoch 11/40\n",
      "80/80 [==============================] - 118s 1s/step - loss: 0.5700 - binary_accuracy: 0.7067 - val_loss: 0.5833 - val_binary_accuracy: 0.6858\n",
      "Epoch 12/40\n",
      "80/80 [==============================] - 117s 1s/step - loss: 0.5388 - binary_accuracy: 0.7370 - val_loss: 0.5525 - val_binary_accuracy: 0.7248\n",
      "Epoch 13/40\n",
      "80/80 [==============================] - 116s 1s/step - loss: 0.5337 - binary_accuracy: 0.7370 - val_loss: 0.5614 - val_binary_accuracy: 0.7088\n",
      "Epoch 14/40\n",
      "80/80 [==============================] - 115s 1s/step - loss: 0.5098 - binary_accuracy: 0.7604 - val_loss: 0.5067 - val_binary_accuracy: 0.7618\n",
      "Epoch 15/40\n",
      "80/80 [==============================] - 115s 1s/step - loss: 0.4764 - binary_accuracy: 0.7758 - val_loss: 0.4902 - val_binary_accuracy: 0.7684\n",
      "Epoch 16/40\n",
      "80/80 [==============================] - 116s 1s/step - loss: 0.4463 - binary_accuracy: 0.8011 - val_loss: 0.4733 - val_binary_accuracy: 0.7773\n",
      "Epoch 17/40\n",
      "80/80 [==============================] - 115s 1s/step - loss: 0.4272 - binary_accuracy: 0.8077 - val_loss: 0.6219 - val_binary_accuracy: 0.7030\n",
      "Epoch 18/40\n",
      "80/80 [==============================] - 115s 1s/step - loss: 0.4002 - binary_accuracy: 0.8306 - val_loss: 0.6111 - val_binary_accuracy: 0.7329\n",
      "Epoch 19/40\n",
      "80/80 [==============================] - 116s 1s/step - loss: 0.3825 - binary_accuracy: 0.8327 - val_loss: 0.4687 - val_binary_accuracy: 0.7787\n",
      "Epoch 20/40\n",
      "80/80 [==============================] - 115s 1s/step - loss: 0.3726 - binary_accuracy: 0.8407 - val_loss: 0.4832 - val_binary_accuracy: 0.7983\n",
      "Epoch 21/40\n",
      "80/80 [==============================] - 115s 1s/step - loss: 0.3260 - binary_accuracy: 0.8702 - val_loss: 0.4841 - val_binary_accuracy: 0.7957\n",
      "Epoch 22/40\n",
      "80/80 [==============================] - 116s 1s/step - loss: 0.3056 - binary_accuracy: 0.8738 - val_loss: 0.4008 - val_binary_accuracy: 0.8319\n",
      "Epoch 23/40\n",
      "80/80 [==============================] - 115s 1s/step - loss: 0.2809 - binary_accuracy: 0.8874 - val_loss: 0.3925 - val_binary_accuracy: 0.8284\n",
      "Epoch 24/40\n",
      "80/80 [==============================] - 115s 1s/step - loss: 0.2704 - binary_accuracy: 0.8872 - val_loss: 0.4205 - val_binary_accuracy: 0.8331\n",
      "Epoch 25/40\n",
      "80/80 [==============================] - 115s 1s/step - loss: 0.2456 - binary_accuracy: 0.9033 - val_loss: 0.3779 - val_binary_accuracy: 0.8521\n",
      "Epoch 26/40\n",
      "80/80 [==============================] - 116s 1s/step - loss: 0.2382 - binary_accuracy: 0.9050 - val_loss: 0.4558 - val_binary_accuracy: 0.8155\n",
      "Epoch 27/40\n",
      "80/80 [==============================] - 115s 1s/step - loss: 0.2336 - binary_accuracy: 0.9064 - val_loss: 0.4950 - val_binary_accuracy: 0.8095\n",
      "Epoch 28/40\n",
      "80/80 [==============================] - 115s 1s/step - loss: 0.2437 - binary_accuracy: 0.9007 - val_loss: 0.4338 - val_binary_accuracy: 0.8276\n",
      "Epoch 29/40\n",
      "80/80 [==============================] - 115s 1s/step - loss: 0.1829 - binary_accuracy: 0.9289 - val_loss: 0.4630 - val_binary_accuracy: 0.8276\n",
      "Epoch 30/40\n",
      "80/80 [==============================] - 115s 1s/step - loss: 0.1706 - binary_accuracy: 0.9345 - val_loss: 0.4333 - val_binary_accuracy: 0.8567\n",
      "Epoch 31/40\n",
      "80/80 [==============================] - 115s 1s/step - loss: 0.1487 - binary_accuracy: 0.9463 - val_loss: 0.4616 - val_binary_accuracy: 0.8545\n",
      "Epoch 32/40\n",
      "80/80 [==============================] - 116s 1s/step - loss: 0.1271 - binary_accuracy: 0.9545 - val_loss: 0.4307 - val_binary_accuracy: 0.8561\n",
      "Epoch 33/40\n",
      "80/80 [==============================] - 115s 1s/step - loss: 0.1114 - binary_accuracy: 0.9617 - val_loss: 0.4309 - val_binary_accuracy: 0.8565\n",
      "Epoch 34/40\n",
      "80/80 [==============================] - 116s 1s/step - loss: 0.1034 - binary_accuracy: 0.9633 - val_loss: 0.4564 - val_binary_accuracy: 0.8525\n",
      "Epoch 35/40\n",
      "80/80 [==============================] - 115s 1s/step - loss: 0.0929 - binary_accuracy: 0.9668 - val_loss: 0.5246 - val_binary_accuracy: 0.8400\n",
      "Epoch 36/40\n",
      "80/80 [==============================] - 115s 1s/step - loss: 0.1201 - binary_accuracy: 0.9556 - val_loss: 0.4758 - val_binary_accuracy: 0.8577\n",
      "Epoch 37/40\n",
      "80/80 [==============================] - 115s 1s/step - loss: 0.0998 - binary_accuracy: 0.9664 - val_loss: 0.4293 - val_binary_accuracy: 0.8614\n",
      "Epoch 38/40\n",
      "80/80 [==============================] - 115s 1s/step - loss: 0.0909 - binary_accuracy: 0.9660 - val_loss: 0.4559 - val_binary_accuracy: 0.8470\n",
      "Epoch 39/40\n",
      "80/80 [==============================] - 115s 1s/step - loss: 0.0877 - binary_accuracy: 0.9685 - val_loss: 0.5216 - val_binary_accuracy: 0.8436\n",
      "Epoch 40/40\n",
      "80/80 [==============================] - 115s 1s/step - loss: 0.1060 - binary_accuracy: 0.9615 - val_loss: 0.4848 - val_binary_accuracy: 0.8450\n"
     ]
    }
   ],
   "source": [
    "model.compile(\n",
    "    optimizer = tf.keras.optimizers.Adam(epsilon = 0.01),\n",
    "    loss = 'binary_crossentropy',\n",
    "    metrics = ['binary_accuracy']\n",
    ")\n",
    "\n",
    "display(type(ds_train))\n",
    "\n",
    "history = model.fit(\n",
    "    ds_train,\n",
    "    validation_data=ds_valid,\n",
    "    epochs=40,\n",
    ")"
   ]
  },
  {
   "cell_type": "code",
   "execution_count": null,
   "metadata": {
    "pycharm": {
     "is_executing": true
    }
   },
   "outputs": [],
   "source": [
    "from IPython.core.display_functions import display\n",
    "import pandas as pd\n",
    "\n",
    "history_frame = pd.DataFrame(history.history)\n",
    "display(history_frame)\n",
    "history_frame[['loss']].plot()\n",
    "history_frame[['binary_accuracy']].plot();\n",
    "\n",
    "display(history_frame)"
   ]
  },
  {
   "cell_type": "code",
   "execution_count": null,
   "metadata": {},
   "outputs": [],
   "source": []
  }
 ],
 "metadata": {
  "kernelspec": {
   "display_name": "Python 3 (ipykernel)",
   "language": "python",
   "name": "python3"
  },
  "language_info": {
   "codemirror_mode": {
    "name": "ipython",
    "version": 3
   },
   "file_extension": ".py",
   "mimetype": "text/x-python",
   "name": "python",
   "nbconvert_exporter": "python",
   "pygments_lexer": "ipython3",
   "version": "3.10.2"
  }
 },
 "nbformat": 4,
 "nbformat_minor": 1
}
